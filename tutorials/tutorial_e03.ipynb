{
 "cells": [
  {
   "cell_type": "markdown",
   "metadata": {},
   "source": [
    "## hammurabiX tutorial e03\n",
    "\n",
    "### random magnetic field visualization and spatial scaling verification\n",
    "\n",
    "In this verification, we first want to visualize a small volume random magnetic field realization,\n",
    "and then verify if the spatial scaling profile is correct."
   ]
  },
  {
   "cell_type": "code",
   "execution_count": 1,
   "metadata": {},
   "outputs": [],
   "source": [
    "#NBVAL_CHECK_OUTPUT\n",
    "\n",
    "import matplotlib\n",
    "import matplotlib.pyplot as plt\n",
    "from matplotlib import cm\n",
    "import numpy as np\n",
    "import healpy as hp\n",
    "import sys\n",
    "import hampyx as hpx\n",
    "import warnings\n",
    "warnings.filterwarnings('ignore')\n",
    "%matplotlib inline"
   ]
  },
  {
   "cell_type": "markdown",
   "metadata": {},
   "source": [
    "- auxiliary functions for visualizing 3D magnetic field output from hammurabiX\n",
    "\n",
    "(contributed by Tess R. Jaffe)"
   ]
  },
  {
   "cell_type": "code",
   "execution_count": 2,
   "metadata": {},
   "outputs": [],
   "source": [
    "#NBVAL_CHECK_OUTPUT\n",
    "\n",
    "def read_box(infile, inshape, dtype='double'):\n",
    "    \"\"\"\n",
    "    Read in a binary dump from hammurabiX\n",
    "    in either float or double format and convert to a numpy array of the given shape\n",
    "    :param infile: input binary file path\n",
    "    :param inshape: input field grid shape, i.e. [nx,ny,nz,3] for 3D grid\n",
    "    :param dtype: input data type\n",
    "    :return: a shaped array of field information from the given binary input\n",
    "    \"\"\"\n",
    "    assert isinstance(infile, str)\n",
    "    assert isinstance(inshape, (list,tuple))\n",
    "    assert (len(inshape) == 4 and inshape[3] == 3)\n",
    "    with open(infile, 'rb') as f:\n",
    "        #  C floats of 4 bytes aren't python floats which are really\n",
    "        #  doubles at 8 bytes.  So spcify f4.\n",
    "        if dtype == 'float':\n",
    "            data = np.frombuffer(f.read(), dtype='<f4')\n",
    "        elif dtype == 'double':\n",
    "            data = np.frombuffer(f.read(), dtype='<f8')\n",
    "        else:\n",
    "            raise TypeError('unsupported type %s' % str(dtype))\n",
    "    return np.reshape(data, inshape)\n",
    "\n",
    "def vis2d(infile, inshape, dtype='double', proj_axis=2, bins=100, tag=\"\"):\n",
    "    \"\"\"\n",
    "    2D (hsitogram) visualization of the binary field dump from hammurabiX\n",
    "    :param infile:\n",
    "    :param inshape:\n",
    "    :param dtype:\n",
    "    :param proj_axis: projection axis, allowing only 0,1,2\n",
    "    :param bins: number of bins in 2D plot\n",
    "    :param tag: the plotting legend\n",
    "    :return: a projected 2D plot of magnetic field in micro Gauss\n",
    "    \"\"\"\n",
    "    data = read_box(infile, inshape, dtype)\n",
    "    nx = inshape[0]\n",
    "    ny = inshape[1]\n",
    "    nz = inshape[2]\n",
    "    \n",
    "    assert isinstance(proj_axis, int)\n",
    "    assert (proj_axis in [0,1,2])\n",
    "    \n",
    "    mG = 1.e-6  # CGS_unit, micro Gauss\n",
    "    xsample = np.reshape(data[:, :, :, proj_axis%3], (nx*ny*nz))/mG\n",
    "    ysample = np.reshape(data[:, :, :, (proj_axis+1)%3], (nx*ny*nz))/mG\n",
    "    \n",
    "    x_std = np.std(xsample)\n",
    "    y_std = np.std(ysample)\n",
    "    m_std = np.sqrt((x_std**2+y_std**2)/2.0)\n",
    "    \n",
    "    h, xedges, yedges = np.histogram2d(xsample, ysample, bins=bins)\n",
    "    x_bin_sizes = (xedges[1:] - xedges[:-1]).reshape((1, bins))\n",
    "    y_bin_sizes = (yedges[1:] - yedges[:-1]).reshape((bins, 1))\n",
    "    x, y = 0.5*(xedges[1:]+xedges[:-1]), 0.5*(yedges[1:]+yedges[:-1])\n",
    "    pdf = (h*(x_bin_sizes*y_bin_sizes))\n",
    "    z = pdf.T\n",
    "    levels = np.linspace(0, max(z.reshape(np.size(z))), 10)\n",
    "    f2d, ax2d = plt.subplots(figsize=(5,5))\n",
    "    ax2d.plot((0,0),(-3,3),'k:')\n",
    "    ax2d.plot((-3,3),(0,0),'k:')\n",
    "    cs = ax2d.contourf(x/m_std, y/m_std, z, cmap=cm.Blues, levels=levels)\n",
    "    ax2d.set_xlim((-2, 2))\n",
    "    ax2d.set_ylim((-2, 2))\n",
    "    from matplotlib.ticker import FormatStrFormatter\n",
    "    ax2d.xaxis.set_major_formatter(FormatStrFormatter('%.1f'))\n",
    "    ax2d.yaxis.set_major_formatter(FormatStrFormatter('%.1f'))\n",
    "    ax2d.tick_params(axis='both', which='major', labelsize='19')\n",
    "    #ax2d.set_xlabel(r'$\\sqrt{2}b_x/\\sqrt{\\sigma^2_x+\\sigma^2_y}$', fontsize=19)\n",
    "    #ax2d.set_ylabel(r'$\\sqrt{2}b_y/\\sqrt{\\sigma^2_x+\\sigma^2_y}$', fontsize=20)\n",
    "    xlimits, ylimits = ax2d.get_xlim(), ax2d.get_ylim()\n",
    "    aspect = (xlimits[1] - xlimits[0]) / (ylimits[1] - ylimits[0])\n",
    "    ax2d.set_aspect(aspect)\n",
    "    proxy = [plt.Rectangle((0, 0), 1, 1, fc=pc.get_facecolor()[0]) for pc in cs.collections]\n",
    "    #ax2d.legend(proxy, [tag], fontsize=20, handletextpad=0.0, handlelength=0)\n",
    "    #f2d.savefig(''.join((type, '2d_dist.pdf')))    "
   ]
  },
  {
   "cell_type": "markdown",
   "metadata": {},
   "source": [
    "- define a hammurabi routine that produces a global magnetic field binary output"
   ]
  },
  {
   "cell_type": "code",
   "execution_count": 3,
   "metadata": {},
   "outputs": [],
   "source": [
    "#NBVAL_CHECK_OUTPUT\n",
    "\n",
    "def simulator(anisotropy, nx, ny, nz, n2l):\n",
    "    \"\"\"\n",
    "    hammurabi X simulation setting\n",
    "    :param anisotropy: level of anisotropy\n",
    "    :param nx: grid size in x,y,z direction\n",
    "    :param ny:\n",
    "    :param nz:\n",
    "    :param n2l: grid points per unit length (kpc)\n",
    "    :return:\n",
    "    \"\"\"\n",
    "    sim = hpx.Hampyx(xml_path='../templates/params_template.xml')\n",
    "    sim.del_par(['obsio', 'sync'], 'all')\n",
    "    sim.del_par(['obsio', 'dm'], 'all')\n",
    "    sim.del_par(['obsio', 'faraday'], 'all')\n",
    "    \n",
    "    sim.mod_par(['grid', 'bfield', 'nx'], {'value': str(nx)})\n",
    "    sim.mod_par(['grid', 'bfield', 'ny'], {'value': str(ny)})\n",
    "    sim.mod_par(['grid', 'bfield', 'nz'], {'value': str(nz)})\n",
    "    sim.mod_par(['grid', 'bfield', 'x_min'], {'value': str(-2.0*nx/n2l)})\n",
    "    sim.mod_par(['grid', 'bfield', 'x_max'], {'value': str(2.0*nx/n2l)})\n",
    "    sim.mod_par(['grid', 'bfield', 'y_min'], {'value': str(-2.0*ny/n2l)})\n",
    "    sim.mod_par(['grid', 'bfield', 'y_max'], {'value': str(2.0*ny/n2l)})\n",
    "    sim.mod_par(['grid', 'bfield', 'z_min'], {'value': str(-2.0*nz/n2l)})\n",
    "    sim.mod_par(['grid', 'bfield', 'z_max'], {'value': str(2.0*nz/n2l)})\n",
    "    \n",
    "    sim.mod_par(['fieldio', 'bfield'], {'read': str(0), 'write': str(1), 'filename': 'brnd_global.bin'})\n",
    "    # use 'test' regular B field setting\n",
    "    sim.del_par(['bmodel'], 'all')\n",
    "    sim.add_par([],'bmodel')\n",
    "    sim.add_par(['bmodel'], 'unif', {'cue': str(1)})\n",
    "    sim.add_par(['bmodel', 'unif'], 'bp', {'value': str(0.001)})\n",
    "    # set field along x direction\n",
    "    sim.add_par(['bmodel', 'unif'], 'l0', {'value': str(0.)})\n",
    "    sim.add_par(['bmodel', 'unif'], 'bv', {'value': str(0.)})\n",
    "    # choose turublent/random field type\n",
    "    sim.add_par(['bmodel'], 'es', {'cue': str(1), 'seed': str(0)})\n",
    "    sim.add_par(['bmodel', 'es'], 'rms', {'value': str(1.)})\n",
    "    sim.add_par(['bmodel', 'es'], 'k0', {'value': str(0.5)})\n",
    "    sim.add_par(['bmodel', 'es'], 'k1', {'value': str(0.1)})\n",
    "    sim.add_par(['bmodel', 'es'], 'a0', {'value': str(1.7)})\n",
    "    sim.add_par(['bmodel', 'es'], 'a1', {'value': str(0.0)})\n",
    "    sim.add_par(['bmodel', 'es'], 'rho', {'value': str(anisotropy)})\n",
    "    sim.add_par(['bmodel', 'es'], 'r0', {'value': str(nx/n2l)})\n",
    "    sim.add_par(['bmodel', 'es'], 'z0', {'value': str(nz/n2l)})\n",
    "\n",
    "    # no spatial scaling profile applied to the local MHD case\n",
    "\n",
    "    sim()"
   ]
  },
  {
   "cell_type": "markdown",
   "metadata": {},
   "source": [
    "- visualize"
   ]
  },
  {
   "cell_type": "code",
   "execution_count": 4,
   "metadata": {},
   "outputs": [
    {
     "data": {
      "image/png": "[encoded data removed]",
      "text/plain": [
       "<Figure size 360x360 with 1 Axes>"
      ]
     },
     "metadata": {
      "needs_background": "light"
     },
     "output_type": "display_data"
    }
   ],
   "source": [
    "rho = 1.0\n",
    "nx = 200\n",
    "ny = 200\n",
    "nz = 200\n",
    "n2l = 50\n",
    "\n",
    "simulator(rho, nx, ny, nz, n2l)\n",
    "\n",
    "vis2d('brnd_global.bin',[nx,ny,nz,3])"
   ]
  },
  {
   "cell_type": "markdown",
   "metadata": {},
   "source": [
    "- scaling check"
   ]
  },
  {
   "cell_type": "code",
   "execution_count": 5,
   "metadata": {},
   "outputs": [],
   "source": [
    "#NBVAL_CHECK_OUTPUT\n",
    "\n",
    "data = read_box('brnd_global.bin',[nx,ny,nz,3])\n",
    "\n",
    "def b_of_z(iz):\n",
    "    assert isinstance(iz, int)\n",
    "    nx = np.shape(data)[0]\n",
    "    ny = np.shape(data)[1]\n",
    "    nz = np.shape(data)[2]\n",
    "    assert (iz <= nz)\n",
    "    slice_z = []\n",
    "    mG = 1.e-6  # CGS_unit, micro Gauss\n",
    "    for i in range(nx):\n",
    "        for j in range(ny):\n",
    "            bx = data[i,j,iz,0]/mG\n",
    "            by = data[i,j,iz,1]/mG\n",
    "            bz = data[i,j,iz,2]/mG\n",
    "            slice_z.append(np.sqrt(bx**2+by**2+bz**2))\n",
    "    return np.mean(slice_z),np.std(slice_z)\n",
    "\n",
    "pick = range(0,nz,1)\n",
    "b = np.zeros((len(pick),2))\n",
    "for i in range(len(pick)):\n",
    "    b[i] = b_of_z(pick[i])"
   ]
  },
  {
   "cell_type": "markdown",
   "metadata": {},
   "source": [
    "- check the z direction scaling conceptually\n",
    "\n",
    "(the scaling profile is described in [ApJS(2020),247,18](https://iopscience.iop.org/article/10.3847/1538-4365/ab72a2))"
   ]
  },
  {
   "cell_type": "code",
   "execution_count": 6,
   "metadata": {},
   "outputs": [
    {
     "data": {
      "text/plain": [
       "[<matplotlib.lines.Line2D at 0x7fbef65a5ef0>]"
      ]
     },
     "execution_count": 6,
     "metadata": {},
     "output_type": "execute_result"
    },
    {
     "data": {
      "image/png": "[encoded data removed]",
      "text/plain": [
       "<Figure size 432x288 with 1 Axes>"
      ]
     },
     "metadata": {
      "needs_background": "light"
     },
     "output_type": "display_data"
    }
   ],
   "source": [
    "fig,ax = plt.subplots()\n",
    "ax.errorbar(pick,b[:,0]/b[nz//2,0],yerr=b[:,1])\n",
    "\n",
    "y = np.zeros(len(pick))\n",
    "for i in range(len(y)):\n",
    "    # the z direction scaling profile\n",
    "    y[i] = np.sqrt(np.exp(-np.fabs(pick[i]-nz/2)/(nz/4)))\n",
    "ax.plot(pick,y,'orange',linewidth=4)"
   ]
  },
  {
   "cell_type": "markdown",
   "metadata": {},
   "source": [
    "clean up"
   ]
  },
  {
   "cell_type": "code",
   "execution_count": 7,
   "metadata": {},
   "outputs": [],
   "source": [
    "import os\n",
    "if os.path.isfile('err.log'):\n",
    "    os.remove('err.log')\n",
    "if os.path.isfile('run.log'):\n",
    "    os.remove('run.log')\n",
    "if os.path.isfile('brnd_global.bin'):\n",
    "    os.remove('brnd_global.bin')"
   ]
  },
  {
   "cell_type": "markdown",
   "metadata": {},
   "source": [
    "end"
   ]
  }
 ],
 "metadata": {
  "kernelspec": {
   "display_name": "Python 3",
   "language": "python",
   "name": "python3"
  },
  "language_info": {
   "codemirror_mode": {
    "name": "ipython",
    "version": 3
   },
   "file_extension": ".py",
   "mimetype": "text/x-python",
   "name": "python",
   "nbconvert_exporter": "python",
   "pygments_lexer": "ipython3",
   "version": "3.6.9"
  }
 },
 "nbformat": 4,
 "nbformat_minor": 2
}
