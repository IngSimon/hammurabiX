{
 "cells": [
  {
   "cell_type": "markdown",
   "metadata": {},
   "source": [
    "## hammurabiX tutorial e03\n",
    "(we recommend users to run tutorials in docker image)\n",
    "\n",
    "### random magnetic field visualization and spatial scaling verification\n",
    "\n",
    "In this verification, we first want to visualize a small volume random magnetic field realization,\n",
    "and then verify if the spatial scaling profile is correct."
   ]
  },
  {
   "cell_type": "code",
   "execution_count": 1,
   "metadata": {},
   "outputs": [],
   "source": [
    "import matplotlib\n",
    "import matplotlib.pyplot as plt\n",
    "from matplotlib import cm\n",
    "import numpy as np\n",
    "import healpy as hp\n",
    "import sys\n",
    "sys.path.append('../hampyx/')\n",
    "import hampyx as hpx\n",
    "\n",
    "matplotlib.use('Agg')\n",
    "%matplotlib inline"
   ]
  },
  {
   "cell_type": "markdown",
   "metadata": {},
   "source": [
    "- auxiliary functions for visualizing 3D magnetic field output from hammurabiX\n",
    "\n",
    "(the credit goes to Tess R. Jaffe)"
   ]
  },
  {
   "cell_type": "code",
   "execution_count": 2,
   "metadata": {},
   "outputs": [],
   "source": [
    "def read_box(infile, inshape, dtype='double'):\n",
    "    \"\"\"\n",
    "    Read in a binary dump from hammurabiX\n",
    "    in either float or double format and convert to a numpy array of the given shape\n",
    "    :param infile: input binary file path\n",
    "    :param inshape: input field grid shape, i.e. [nx,ny,nz,3] for 3D grid\n",
    "    :param dtype: input data type\n",
    "    :return: a shaped array of field information from the given binary input\n",
    "    \"\"\"\n",
    "    assert isinstance(infile, str)\n",
    "    assert isinstance(inshape, (list,tuple))\n",
    "    assert (len(inshape) == 4 and inshape[3] == 3)\n",
    "    with open(infile, 'rb') as f:\n",
    "        #  C floats of 4 bytes aren't python floats which are really\n",
    "        #  doubles at 8 bytes.  So spcify f4.\n",
    "        if dtype == 'float':\n",
    "            data = np.frombuffer(f.read(), dtype='<f4')\n",
    "        elif dtype == 'double':\n",
    "            data = np.frombuffer(f.read(), dtype='<f8')\n",
    "        else:\n",
    "            raise TypeError('unsupported type %s' % str(dtype))\n",
    "    return np.reshape(data, inshape)\n",
    "\n",
    "def vis2d(infile, inshape, dtype='double', proj_axis=2, bins=100, tag=\"\"):\n",
    "    \"\"\"\n",
    "    2D (hsitogram) visualization of the binary field dump from hammurabiX\n",
    "    :param infile:\n",
    "    :param inshape:\n",
    "    :param dtype:\n",
    "    :param proj_axis: projection axis, allowing only 0,1,2\n",
    "    :param bins: number of bins in 2D plot\n",
    "    :param tag: the plotting legend\n",
    "    :return: a projected 2D plot of magnetic field in micro Gauss\n",
    "    \"\"\"\n",
    "    _data = read_box(infile, inshape, dtype)\n",
    "    _nx = inshape[0]\n",
    "    _ny = inshape[1]\n",
    "    _nz = inshape[2]\n",
    "    \n",
    "    assert isinstance(proj_axis, int)\n",
    "    assert (proj_axis in [0,1,2])\n",
    "    \n",
    "    mG = 1.e-6  # CGS_unit, micro Gauss\n",
    "    _xsample = np.reshape(_data[:, :, :, proj_axis%3], (_nx*_ny*_nz))/mG\n",
    "    _ysample = np.reshape(_data[:, :, :, (proj_axis+1)%3], (_nx*_ny*_nz))/mG\n",
    "    \n",
    "    _x_std = np.std(_xsample)\n",
    "    _y_std = np.std(_ysample)\n",
    "    _m_std = np.sqrt((_x_std**2+_y_std**2)/2.0)\n",
    "    \n",
    "    _h, _xedges, _yedges = np.histogram2d(_xsample, _ysample, bins=bins)\n",
    "    _x_bin_sizes = (_xedges[1:] - _xedges[:-1]).reshape((1, bins))\n",
    "    _y_bin_sizes = (_yedges[1:] - _yedges[:-1]).reshape((bins, 1))\n",
    "    _x, _y = 0.5*(_xedges[1:]+_xedges[:-1]), 0.5*(_yedges[1:]+_yedges[:-1])\n",
    "    _pdf = (_h*(_x_bin_sizes*_y_bin_sizes))\n",
    "    _z = _pdf.T\n",
    "    _levels = np.linspace(0, max(_z.reshape(np.size(_z))), 10)\n",
    "    _f2d, _ax2d = plt.subplots(figsize=(5,5))\n",
    "    _ax2d.plot((0,0),(-3,3),'k:')\n",
    "    _ax2d.plot((-3,3),(0,0),'k:')\n",
    "    _cs = _ax2d.contourf(_x/_m_std, _y/_m_std, _z, cmap=cm.Blues, levels=_levels)\n",
    "    _ax2d.set_xlim((-2, 2))\n",
    "    _ax2d.set_ylim((-2, 2))\n",
    "    from matplotlib.ticker import FormatStrFormatter\n",
    "    _ax2d.xaxis.set_major_formatter(FormatStrFormatter('%.1f'))\n",
    "    _ax2d.yaxis.set_major_formatter(FormatStrFormatter('%.1f'))\n",
    "    _ax2d.tick_params(axis='both', which='major', labelsize='19')\n",
    "    #_ax2d.set_xlabel(r'$\\sqrt{2}b_x/\\sqrt{\\sigma^2_x+\\sigma^2_y}$', fontsize=19)\n",
    "    #_ax2d.set_ylabel(r'$\\sqrt{2}b_y/\\sqrt{\\sigma^2_x+\\sigma^2_y}$', fontsize=20)\n",
    "    _xlimits, _ylimits = _ax2d.get_xlim(), _ax2d.get_ylim()\n",
    "    _aspect = (_xlimits[1] - _xlimits[0]) / (_ylimits[1] - _ylimits[0])\n",
    "    _ax2d.set_aspect(_aspect)\n",
    "    _proxy = [plt.Rectangle((0, 0), 1, 1, fc=pc.get_facecolor()[0]) for pc in _cs.collections]\n",
    "    _ax2d.legend(_proxy, [tag], fontsize=20, handletextpad=0.0, handlelength=0)\n",
    "    #f2d.savefig(''.join((_type, '_2d_dist.pdf')))    "
   ]
  },
  {
   "cell_type": "markdown",
   "metadata": {},
   "source": [
    "- define a hammurabi routine that produces a global magnetic field binary output"
   ]
  },
  {
   "cell_type": "code",
   "execution_count": 3,
   "metadata": {},
   "outputs": [],
   "source": [
    "def simulator(_anisotropy, _nx, _ny, _nz, _n2l):\n",
    "    \"\"\"\n",
    "    hammurabi X simulation setting\n",
    "    :param _anisotropy: level of anisotropy\n",
    "    :param _nx: grid size in x,y,z direction\n",
    "    :param _ny:\n",
    "    :param _nz:\n",
    "    :param _n2l: grid points per unit length (kpc)\n",
    "    :return:\n",
    "    \"\"\"\n",
    "    _obj = hpx.Hampyx(xml_path='../templates/params_template.xml')\n",
    "    _obj.del_par(['observable', 'sync'], 'all')\n",
    "    _obj.del_par(['observable', 'dm'], 'all')\n",
    "    _obj.del_par(['observable', 'faraday'], 'all')\n",
    "    \n",
    "    _obj.mod_par(['grid', 'box_brnd', 'nx'], {'value': str(_nx)})\n",
    "    _obj.mod_par(['grid', 'box_brnd', 'ny'], {'value': str(_ny)})\n",
    "    _obj.mod_par(['grid', 'box_brnd', 'nz'], {'value': str(_nz)})\n",
    "    _obj.mod_par(['grid', 'box_brnd', 'x_min'], {'value': str(-2.0*_nx/_n2l)})\n",
    "    _obj.mod_par(['grid', 'box_brnd', 'x_max'], {'value': str(2.0*_nx/_n2l)})\n",
    "    _obj.mod_par(['grid', 'box_brnd', 'y_min'], {'value': str(-2.0*_ny/_n2l)})\n",
    "    _obj.mod_par(['grid', 'box_brnd', 'y_max'], {'value': str(2.0*_ny/_n2l)})\n",
    "    _obj.mod_par(['grid', 'box_brnd', 'z_min'], {'value': str(-2.0*_nz/_n2l)})\n",
    "    _obj.mod_par(['grid', 'box_brnd', 'z_max'], {'value': str(2.0*_nz/_n2l)})\n",
    "    \n",
    "    _obj.mod_par(['fieldio', 'brnd'], {'read': str(0), 'write': str(1), 'filename': 'brnd_global.bin'})\n",
    "    # use 'test' regular B field setting\n",
    "    _obj.mod_par(['magneticfield', 'regular'], {'cue': str(1), 'type': 'unif'})\n",
    "    _obj.mod_par(['magneticfield', 'regular', 'unif', 'bp'], {'value': str(2.0)})\n",
    "    # set field along x direction\n",
    "    _obj.mod_par(['magneticfield', 'regular', 'unif', 'l0'], {'value': str(0.)})\n",
    "    _obj.mod_par(['magneticfield', 'regular', 'unif', 'bv'], {'value': str(0.)})\n",
    "    # choose turublent/random field type\n",
    "    _obj.mod_par(['magneticfield', 'random'], {'cue': str(1), 'type': 'global', 'seed': str(0)})\n",
    "\n",
    "    _obj.mod_par(['magneticfield', 'random', 'global'], {'type': 'es'})\n",
    "    _obj.mod_par(['magneticfield', 'random', 'global', 'es', 'rms'], {'value': str(1.)})\n",
    "    _obj.mod_par(['magneticfield', 'random', 'global', 'es', 'k0'], {'value': str(0.5)})\n",
    "    _obj.mod_par(['magneticfield', 'random', 'global', 'es', 'a0'], {'value': str(1.7)})\n",
    "    _obj.mod_par(['magneticfield', 'random', 'global', 'es', 'rho'], {'value': str(_anisotropy)})\n",
    "    _obj.mod_par(['magneticfield', 'random', 'global', 'es', 'r0'], {'value': str(_nx/_n2l)})\n",
    "    _obj.mod_par(['magneticfield', 'random', 'global', 'es', 'z0'], {'value': str(_nz/_n2l)})\n",
    "\n",
    "    # no spatial scaling profile applied to the local MHD case\n",
    "\n",
    "    _obj(True)"
   ]
  },
  {
   "cell_type": "markdown",
   "metadata": {},
   "source": [
    "- visualize"
   ]
  },
  {
   "cell_type": "code",
   "execution_count": 4,
   "metadata": {},
   "outputs": [
    {
     "data": {
      "image/png": "[encoded data removed]",
      "text/plain": [
       "<Figure size 360x360 with 1 Axes>"
      ]
     },
     "metadata": {
      "needs_background": "light"
     },
     "output_type": "display_data"
    }
   ],
   "source": [
    "rho = 1.0\n",
    "nx = 200\n",
    "ny = 200\n",
    "nz = 200\n",
    "n2l = 50\n",
    "\n",
    "simulator(rho, nx, ny, nz, n2l)\n",
    "\n",
    "vis2d('brnd_global.bin',[nx,ny,nz,3])"
   ]
  },
  {
   "cell_type": "markdown",
   "metadata": {},
   "source": [
    "- scaling check"
   ]
  },
  {
   "cell_type": "code",
   "execution_count": 5,
   "metadata": {},
   "outputs": [],
   "source": [
    "data = read_box('brnd_global.bin',[nx,ny,nz,3])\n",
    "\n",
    "def b_of_z(_iz):\n",
    "    assert isinstance(_iz, int)\n",
    "    _nx = np.shape(data)[0]\n",
    "    _ny = np.shape(data)[1]\n",
    "    _nz = np.shape(data)[2]\n",
    "    assert (_iz <= _nz)\n",
    "    slice_z = []\n",
    "    mG = 1.e-6  # CGS_unit, micro Gauss\n",
    "    for i in range(_nx):\n",
    "        for j in range(_ny):\n",
    "            bx = data[i,j,_iz,0]/mG\n",
    "            by = data[i,j,_iz,1]/mG\n",
    "            bz = data[i,j,_iz,2]/mG\n",
    "            slice_z.append(np.sqrt(bx**2+by**2+bz**2))\n",
    "    return np.mean(slice_z),np.std(slice_z)\n",
    "\n",
    "pick = range(0,nz,1)\n",
    "b = np.zeros((len(pick),2))\n",
    "for i in range(len(pick)):\n",
    "    b[i] = b_of_z(pick[i])"
   ]
  },
  {
   "cell_type": "markdown",
   "metadata": {},
   "source": [
    "- check the z direction scaling conceptually\n",
    "\n",
    "(the scaling profile is described in arXiv:1907.00207)"
   ]
  },
  {
   "cell_type": "code",
   "execution_count": 6,
   "metadata": {},
   "outputs": [
    {
     "data": {
      "text/plain": [
       "[<matplotlib.lines.Line2D at 0x7fd39c321198>]"
      ]
     },
     "execution_count": 6,
     "metadata": {},
     "output_type": "execute_result"
    },
    {
     "data": {
      "image/png": "[encoded data removed]",
      "text/plain": [
       "<Figure size 432x288 with 1 Axes>"
      ]
     },
     "metadata": {
      "needs_background": "light"
     },
     "output_type": "display_data"
    }
   ],
   "source": [
    "fig,ax = plt.subplots()\n",
    "ax.errorbar(pick,b[:,0],yerr=b[:,1])\n",
    "\n",
    "y = np.zeros(len(pick))\n",
    "for i in range(len(y)):\n",
    "    # the z direction scaling profile\n",
    "    y[i] = 2.5*np.sqrt(np.exp(-np.fabs(pick[i]-nz/2)/(nz/4)))\n",
    "ax.plot(pick,y,'orange',linewidth=4)"
   ]
  },
  {
   "cell_type": "markdown",
   "metadata": {},
   "source": [
    "end"
   ]
  }
 ],
 "metadata": {
  "kernelspec": {
   "display_name": "Python 3",
   "language": "python",
   "name": "python3"
  },
  "language_info": {
   "codemirror_mode": {
    "name": "ipython",
    "version": 3
   },
   "file_extension": ".py",
   "mimetype": "text/x-python",
   "name": "python",
   "nbconvert_exporter": "python",
   "pygments_lexer": "ipython3",
   "version": "3.6.7"
  }
 },
 "nbformat": 4,
 "nbformat_minor": 2
}
